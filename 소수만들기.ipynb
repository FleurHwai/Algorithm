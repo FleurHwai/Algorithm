{
 "cells": [
  {
   "cell_type": "code",
   "execution_count": 14,
   "metadata": {},
   "outputs": [],
   "source": [
    "def solution(nums):\n",
    "    from itertools import combinations as comb\n",
    "    answer=0\n",
    "    for i in comb(nums,3):\n",
    "        sums=sum(i)\n",
    "        print(i)\n",
    "        for j in range(2,sums):\n",
    "            if sums%j==0:\n",
    "                break\n",
    "            elif sums%j!=0 and sums-1==j:\n",
    "                answer+=1\n",
    "    return answer"
   ]
  }
 ],
 "metadata": {
  "kernelspec": {
   "display_name": "Python 3",
   "language": "python",
   "name": "python3"
  },
  "language_info": {
   "codemirror_mode": {
    "name": "ipython",
    "version": 3
   },
   "file_extension": ".py",
   "mimetype": "text/x-python",
   "name": "python",
   "nbconvert_exporter": "python",
   "pygments_lexer": "ipython3",
   "version": "3.8.5"
  }
 },
 "nbformat": 4,
 "nbformat_minor": 4
}
