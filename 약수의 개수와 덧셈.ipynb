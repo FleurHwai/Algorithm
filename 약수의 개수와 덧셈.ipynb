def solution(left, right):
    import math
    answer = 0
    for number in range(left,right+1):
        square=math.sqrt(number)
        if square-int(square)>0:
            answer+=number
        elif square-int(square)==0:
            answer-=number
    return answer
